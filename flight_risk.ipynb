{
 "cells": [
  {
   "cell_type": "code",
   "execution_count": null,
   "id": "3cd55a8f",
   "metadata": {},
   "outputs": [],
   "source": [
    "import pandas as pd"
   ]
  },
  {
   "cell_type": "code",
   "execution_count": null,
   "id": "eb3e6194",
   "metadata": {},
   "outputs": [],
   "source": [
    "import warnings\n",
    "warnings.filterwarnings('ignore')"
   ]
  },
  {
   "cell_type": "code",
   "execution_count": null,
   "id": "503a0898",
   "metadata": {},
   "outputs": [],
   "source": [
    "# 加载数据集\n",
    "df = pd.read_csv('test_sentiment.csv')\n",
    "# 检查数据类型和缺失值情况\n",
    "print('数据基本信息：')\n",
    "df.info()"
   ]
  },
  {
   "cell_type": "code",
   "execution_count": null,
   "id": "10d13f7b",
   "metadata": {},
   "outputs": [],
   "source": [
    "# 将 date 列转换为 datetime 类型\n",
    "df['date'] = pd.to_datetime(df['date'], errors='coerce')"
   ]
  },
  {
   "cell_type": "code",
   "execution_count": null,
   "id": "10746d77",
   "metadata": {},
   "outputs": [],
   "source": [
    "# 按发送者和日期排序，确保每个员工的邮件按时间顺序排列\n",
    "df_sorted = df.sort_values(by=['from', 'date'])"
   ]
  },
  {
   "cell_type": "code",
   "execution_count": null,
   "id": "754fdc8f",
   "metadata": {},
   "outputs": [],
   "source": [
    "# 筛选负面邮件，并按发送者和30天滚动窗口统计数量\n",
    "risk = df_sorted[df_sorted['sentiment'] == 'Negative'] \\\n",
    "    .groupby('from') \\\n",
    "    .rolling('30D', on='date')['sentiment'] \\\n",
    "    .count() \\\n",
    "    .reset_index(name='negative_count')  # 重命名计数列，避免与原列名冲突"
   ]
  },
  {
   "cell_type": "code",
   "execution_count": null,
   "id": "b8156e0d",
   "metadata": {},
   "outputs": [],
   "source": [
    "# 筛选出30天内负面邮件≥4封的员工\n",
    "flight_risk = risk[risk['negative_count'] >= 4][['from']].drop_duplicates()"
   ]
  },
  {
   "cell_type": "code",
   "execution_count": null,
   "id": "b2c747e3",
   "metadata": {},
   "outputs": [],
   "source": [
    "print('有离职风险的员工：')\n",
    "print(flight_risk)"
   ]
  }
 ],
 "metadata": {
  "kernelspec": {
   "display_name": "Python 3 (ipykernel)",
   "language": "python",
   "name": "python3"
  },
  "language_info": {
   "codemirror_mode": {
    "name": "ipython",
    "version": 3
   },
   "file_extension": ".py",
   "mimetype": "text/x-python",
   "name": "python",
   "nbconvert_exporter": "python",
   "pygments_lexer": "ipython3",
   "version": "3.9.13"
  }
 },
 "nbformat": 4,
 "nbformat_minor": 5
}
