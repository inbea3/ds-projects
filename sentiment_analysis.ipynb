{
 "cells": [
  {
   "cell_type": "code",
   "execution_count": 1,
   "id": "b330a5b0",
   "metadata": {},
   "outputs": [],
   "source": [
    "import pandas as pd"
   ]
  },
  {
   "cell_type": "code",
   "execution_count": 2,
   "id": "074e6f06",
   "metadata": {},
   "outputs": [
    {
     "name": "stdout",
     "output_type": "stream",
     "text": [
      "数据基本信息：\n",
      "<class 'pandas.core.frame.DataFrame'>\n",
      "RangeIndex: 2191 entries, 0 to 2190\n",
      "Data columns (total 4 columns):\n",
      " #   Column   Non-Null Count  Dtype \n",
      "---  ------   --------------  ----- \n",
      " 0   Subject  2191 non-null   object\n",
      " 1   body     2191 non-null   object\n",
      " 2   date     2191 non-null   object\n",
      " 3   from     2191 non-null   object\n",
      "dtypes: object(4)\n",
      "memory usage: 68.6+ KB\n"
     ]
    }
   ],
   "source": [
    "# 加载数据集\n",
    "df = pd.read_csv('test.csv')\n",
    "print('数据基本信息：')\n",
    "df.info()"
   ]
  },
  {
   "cell_type": "code",
   "execution_count": 3,
   "id": "94edef8c",
   "metadata": {},
   "outputs": [
    {
     "name": "stdout",
     "output_type": "stream",
     "text": [
      "数据共由2191行4列组成\n",
      "数据前五行内容信息：\n",
      "\tSubject\tbody\tdate\tfrom\n",
      "0\tEnronOptions Update!\t\"EnronOptions Announcement\n",
      "\n",
      "\n",
      "We have updated the EnronOptions =01) Your Stock Option Program web site!  =\n",
      "The=20\n",
      "web site now contains specific details of the EnronOptions Program includin=\n",
      "g=20\n",
      "the December 29, 2000 grant price and additional information on employee=20\n",
      "eligibility.\n",
      "\n",
      "Access EnronOptions =01) Your Stock Option Program web site by clicking on=\n",
      "=20\n",
      "http://hrweb.enron.com or by typing the address into your web browser.\n",
      "\n",
      "We hope you find the revised site helpful in addressing your questions abou=\n",
      "t=20\n",
      "the EnronOptions Program.  If you have any additional questions, please=20\n",
      "contact your H.R. Representative.\n",
      "\n",
      "Stay tuned for more information throughout March and April 2001.\"\t5/10/2010\tsally.beck@enron.com\n",
      "1\t(No Subject)\t\"Marc,\n",
      "\n",
      "Unfortunately, today is not going to work for the revenue model for mid & \n",
      "back office services meeting.  How about this coming Monday, Feb 26 from 1:00 \n",
      "- 2:30 pm?  I have penciled in that time for Sally, Mary Solmonson & James \n",
      "Scribner.  Please let me know if that will work for you.\n",
      "\n",
      "Thanks,\n",
      "Patti x39106\"\t7/29/2010\teric.bass@enron.com\n",
      "2\tPhone Screen  Interview - Shannon L. Burnham\t\"When: Wednesday, June 06, 2001 10:00 AM-11:00 AM (GMT-06:00) Central Time (US & Canada).\n",
      "Where:  @ 10:00am CST  (225) 931-8111\n",
      "\n",
      "*~*~*~*~*~*~*~*~*~*\n",
      "\n",
      " \"\t7/25/2011\tsally.beck@enron.com\n",
      "3\tRE: My new work email\t\"we were thinking papasitos (we can meet somewhere closer to you this time) \n",
      "again at around 8\n",
      "\n",
      "\n",
      "\n",
      "\n",
      "Jason Bass <JBass@stdauto.com> on 02/21/2001 11:22:45 AM\n",
      "\"\t3/25/2010\tjohnny.palmer@enron.com\n",
      "4\tBet\tSince you never gave me the $20 for the last time we bet on CU/Texas, I figured I would give you the chance to go double or nothing on the second round.  I think the line is Texas -9.  Let me know.\t5/21/2011\tlydia.delgado@enron.com\n",
      "\n"
     ]
    }
   ],
   "source": [
    "# 查看数据集行数和列数\n",
    "rows, columns = df.shape\n",
    "print(f'数据共由{rows}行{columns}列组成')\n",
    "print('数据前五行内容信息：')\n",
    "print(df.head(5).to_csv(sep='\\t', na_rep='nan'))"
   ]
  },
  {
   "cell_type": "code",
   "execution_count": 4,
   "id": "60214b25",
   "metadata": {},
   "outputs": [],
   "source": [
    "from textblob import TextBlob"
   ]
  },
  {
   "cell_type": "code",
   "execution_count": 5,
   "id": "418e87ef",
   "metadata": {},
   "outputs": [],
   "source": [
    "# 定义情感分析函数\n",
    "def get_sentiment(text):\n",
    "    # 使用TextBlob进行情感分析\n",
    "    analysis = TextBlob(text)\n",
    "    polarity = analysis.sentiment.polarity\n",
    "    \n",
    "    # 根据极性判断情感类别\n",
    "    if polarity > 0.1:\n",
    "        return 'Positive'\n",
    "    elif polarity < -0.1:\n",
    "        return 'Negative'\n",
    "    else:\n",
    "        return 'Neutral'"
   ]
  },
  {
   "cell_type": "code",
   "execution_count": 6,
   "id": "efff1d8d",
   "metadata": {},
   "outputs": [],
   "source": [
    "# 对消息内容进行情感标注\n",
    "df['sentiment'] = df['body'].apply(get_sentiment)\n",
    "\n",
    "# 保存结果\n",
    "df.to_csv('test_sentiment.csv', index=False)"
   ]
  }
 ],
 "metadata": {
  "kernelspec": {
   "display_name": "Python 3 (ipykernel)",
   "language": "python",
   "name": "python3"
  },
  "language_info": {
   "codemirror_mode": {
    "name": "ipython",
    "version": 3
   },
   "file_extension": ".py",
   "mimetype": "text/x-python",
   "name": "python",
   "nbconvert_exporter": "python",
   "pygments_lexer": "ipython3",
   "version": "3.12.3"
  }
 },
 "nbformat": 4,
 "nbformat_minor": 5
}
