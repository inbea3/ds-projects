{
 "cells": [
  {
   "cell_type": "code",
   "execution_count": null,
   "id": "b330a5b0",
   "metadata": {},
   "outputs": [],
   "source": [
    "import pandas as pd"
   ]
  },
  {
   "cell_type": "code",
   "execution_count": null,
   "id": "074e6f06",
   "metadata": {},
   "outputs": [],
   "source": [
    "# 加载数据集\n",
    "df = pd.read_csv('test.csv')\n",
    "print('数据基本信息：')\n",
    "df.info()"
   ]
  },
  {
   "cell_type": "code",
   "execution_count": null,
   "id": "94edef8c",
   "metadata": {},
   "outputs": [],
   "source": [
    "# 查看数据集行数和列数\n",
    "rows, columns = df.shape\n",
    "print(f'数据共由{rows}行{columns}列组成')\n",
    "print('数据前五行内容信息：')\n",
    "print(df.head(5).to_csv(sep='\\t', na_rep='nan'))"
   ]
  },
  {
   "cell_type": "code",
   "execution_count": null,
   "id": "60214b25",
   "metadata": {},
   "outputs": [],
   "source": [
    "from textblob import TextBlob"
   ]
  },
  {
   "cell_type": "code",
   "execution_count": null,
   "id": "418e87ef",
   "metadata": {},
   "outputs": [],
   "source": [
    "# 定义情感分析函数\n",
    "def get_sentiment(text):\n",
    "    # 使用TextBlob进行情感分析\n",
    "    analysis = TextBlob(text)\n",
    "    polarity = analysis.sentiment.polarity\n",
    "    \n",
    "    # 根据极性判断情感类别\n",
    "    if polarity > 0.1:\n",
    "        return 'Positive'\n",
    "    elif polarity < -0.1:\n",
    "        return 'Negative'\n",
    "    else:\n",
    "        return 'Neutral'"
   ]
  },
  {
   "cell_type": "code",
   "execution_count": null,
   "id": "efff1d8d",
   "metadata": {},
   "outputs": [],
   "source": [
    "# 对消息内容进行情感标注\n",
    "df['sentiment'] = df['body'].apply(get_sentiment)\n",
    "\n",
    "# 保存结果\n",
    "df.to_csv('test_sentiment.csv', index=False)"
   ]
  }
 ],
 "metadata": {
  "kernelspec": {
   "display_name": "Python 3 (ipykernel)",
   "language": "python",
   "name": "python3"
  },
  "language_info": {
   "codemirror_mode": {
    "name": "ipython",
    "version": 3
   },
   "file_extension": ".py",
   "mimetype": "text/x-python",
   "name": "python",
   "nbconvert_exporter": "python",
   "pygments_lexer": "ipython3",
   "version": "3.9.13"
  }
 },
 "nbformat": 4,
 "nbformat_minor": 5
}
