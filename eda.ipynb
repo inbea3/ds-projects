{
 "cells": [
  {
   "cell_type": "code",
   "execution_count": null,
   "id": "6109e180",
   "metadata": {},
   "outputs": [],
   "source": [
    "import matplotlib.pyplot as plt\n",
    "import pandas as pd"
   ]
  },
  {
   "cell_type": "code",
   "execution_count": null,
   "id": "63d93481",
   "metadata": {},
   "outputs": [],
   "source": [
    "import warnings\n",
    "warnings.filterwarnings('ignore')"
   ]
  },
  {
   "cell_type": "code",
   "execution_count": null,
   "id": "118c6268",
   "metadata": {},
   "outputs": [],
   "source": [
    "# 加载数据集\n",
    "df = pd.read_csv('test_sentiment.csv')\n",
    "# 检查数据类型和缺失值情况\n",
    "print('数据基本信息：')\n",
    "df.info()"
   ]
  },
  {
   "cell_type": "code",
   "execution_count": null,
   "id": "2bf60415",
   "metadata": {},
   "outputs": [],
   "source": [
    "# 统计情感标签分布情况\n",
    "sentiment_distribution = df['sentiment'].value_counts()\n",
    "print('情感标签分布情况：')\n",
    "print(sentiment_distribution)"
   ]
  },
  {
   "cell_type": "code",
   "execution_count": null,
   "id": "f09310e1",
   "metadata": {},
   "outputs": [],
   "source": [
    "# 将 date 列转换为日期时间类型\n",
    "df['date'] = pd.to_datetime(df['date'])"
   ]
  },
  {
   "cell_type": "code",
   "execution_count": null,
   "id": "c471f8c4",
   "metadata": {},
   "outputs": [],
   "source": [
    "# 按年月统计情感标签数量\n",
    "monthly_sentiment = df.groupby(df['date'].dt.to_period('M'))['sentiment'].value_counts().unstack(fill_value=0)\n",
    "print('每月情感标签数量：')\n",
    "print(monthly_sentiment)"
   ]
  },
  {
   "cell_type": "code",
   "execution_count": null,
   "id": "7fc2acbd",
   "metadata": {},
   "outputs": [],
   "source": [
    "# 设置图片清晰度\n",
    "plt.rcParams['figure.dpi'] = 300\n",
    "# 创建画布\n",
    "fig, axes = plt.subplots(2, 1, figsize=(15, 12))\n",
    "\n",
    "# 绘制情感标签分布柱状图\n",
    "sentiment_distribution.plot(kind='bar', ax=axes[0])\n",
    "axes[0].set_title('Distribution of emotional labels')\n",
    "axes[0].set_xlabel('Emotional tags')\n",
    "axes[0].set_ylabel('Quantity')\n",
    "axes[0].tick_params(axis='x', rotation=0)\n",
    "\n",
    "# 添加数据标签\n",
    "for i, v in enumerate(sentiment_distribution):\n",
    "    axes[0].text(i, v + 10, str(v), ha='center')\n",
    "\n",
    "# 绘制每月情感标签数量折线图\n",
    "monthly_sentiment.plot(kind='line', marker='o', ax=axes[1])\n",
    "axes[1].set_title('The number of emotional tags per month')\n",
    "axes[1].set_xlabel('Month and Year')\n",
    "axes[1].set_ylabel('Emotional tags')\n",
    "axes[1].legend(title='')\n",
    "\n",
    "# 添加数据标签\n",
    "for line in axes[1].lines:\n",
    "    y = line.get_ydata()\n",
    "    for i, value in enumerate(y):\n",
    "        axes[1].text(line.get_xdata()[i], value, str(int(value)), ha='center', va='bottom')\n",
    "\n",
    "# 自动调整布局\n",
    "plt.tight_layout()\n",
    "\n",
    "# 显示图形\n",
    "plt.show()"
   ]
  }
 ],
 "metadata": {
  "kernelspec": {
   "display_name": "Python 3 (ipykernel)",
   "language": "python",
   "name": "python3"
  },
  "language_info": {
   "codemirror_mode": {
    "name": "ipython",
    "version": 3
   },
   "file_extension": ".py",
   "mimetype": "text/x-python",
   "name": "python",
   "nbconvert_exporter": "python",
   "pygments_lexer": "ipython3",
   "version": "3.9.13"
  }
 },
 "nbformat": 4,
 "nbformat_minor": 5
}
