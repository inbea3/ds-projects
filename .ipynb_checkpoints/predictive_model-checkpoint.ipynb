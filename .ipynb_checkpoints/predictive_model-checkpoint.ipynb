{
 "cells": [
  {
   "cell_type": "code",
   "execution_count": null,
   "id": "3fdf3444",
   "metadata": {},
   "outputs": [],
   "source": [
    "from sklearn.linear_model import LinearRegression\n",
    "from sklearn.model_selection import train_test_split\n",
    "from sklearn.metrics import mean_squared_error, r2_score"
   ]
  },
  {
   "cell_type": "code",
   "execution_count": null,
   "id": "ee94079a",
   "metadata": {},
   "outputs": [],
   "source": [
    "import pandas as pd\n",
    "import matplotlib.pyplot as plt"
   ]
  },
  {
   "cell_type": "code",
   "execution_count": null,
   "id": "34c6a273",
   "metadata": {},
   "outputs": [],
   "source": [
    "import warnings\n",
    "warnings.filterwarnings('ignore')"
   ]
  },
  {
   "cell_type": "code",
   "execution_count": null,
   "id": "8f50e780",
   "metadata": {},
   "outputs": [],
   "source": [
    "# 加载数据集\n",
    "df = pd.read_csv('test_sentiment.csv')\n",
    "# 检查数据类型和缺失值情况\n",
    "print('数据基本信息：')\n",
    "df.info()"
   ]
  },
  {
   "cell_type": "code",
   "execution_count": null,
   "id": "3e3d053e",
   "metadata": {},
   "outputs": [],
   "source": [
    "# 计算消息长度\n",
    "df['message_length'] = df['body'].str.len()"
   ]
  },
  {
   "cell_type": "code",
   "execution_count": null,
   "id": "d700d293",
   "metadata": {},
   "outputs": [],
   "source": [
    "# 计算单词数量\n",
    "df['word_count'] = df['body'].apply(lambda x: len(x.split()))"
   ]
  },
  {
   "cell_type": "code",
   "execution_count": null,
   "id": "5a7d4afb",
   "metadata": {},
   "outputs": [],
   "source": [
    "df['date'] = pd.to_datetime(df['date'], errors='coerce')"
   ]
  },
  {
   "cell_type": "code",
   "execution_count": null,
   "id": "24961886",
   "metadata": {},
   "outputs": [],
   "source": [
    "# 按年月和发送者分组，计算每月的消息发送频率、平均消息长度和平均单词数量\n",
    "monthly_features = df.groupby([df['date'].dt.to_period('M'), 'from']).agg(\n",
    "    message_frequency=('body', 'count'),\n",
    "    average_message_length=('message_length', 'mean'),\n",
    "    average_word_count=('word_count', 'mean')\n",
    ").reset_index()"
   ]
  },
  {
   "cell_type": "code",
   "execution_count": null,
   "id": "09893990",
   "metadata": {},
   "outputs": [],
   "source": [
    "# 为每条消息分配一个分数\n",
    "df['score'] = df['sentiment'].map({'Positive': 1, 'Negative': -1, 'Neutral': 0})"
   ]
  },
  {
   "cell_type": "code",
   "execution_count": null,
   "id": "65406307",
   "metadata": {},
   "outputs": [],
   "source": [
    "# 按年月和发送者分组，计算每月的情绪评分\n",
    "monthly_score = df.groupby([df['date'].dt.to_period('M'), 'from'])['score'].sum().reset_index()"
   ]
  },
  {
   "cell_type": "code",
   "execution_count": null,
   "id": "3f2b343d",
   "metadata": {},
   "outputs": [],
   "source": [
    "# 合并每月的情绪评分和特征\n",
    "monthly_data = pd.merge(monthly_score, monthly_features, on=['date', 'from'])"
   ]
  },
  {
   "cell_type": "code",
   "execution_count": null,
   "id": "a0a7fea7",
   "metadata": {},
   "outputs": [],
   "source": [
    "# 准备特征和目标变量\n",
    "X = monthly_data[['message_frequency', 'average_message_length', 'average_word_count']]\n",
    "y = monthly_data['score']"
   ]
  },
  {
   "cell_type": "code",
   "execution_count": null,
   "id": "5024a368",
   "metadata": {},
   "outputs": [],
   "source": [
    "# 将数据分为训练集和测试集\n",
    "X_train, X_test, y_train, y_test = train_test_split(X, y, test_size=0.2, random_state=42)"
   ]
  },
  {
   "cell_type": "code",
   "execution_count": null,
   "id": "3ff7c4b9",
   "metadata": {},
   "outputs": [],
   "source": [
    "# 开发线性回归模型\n",
    "model = LinearRegression()\n",
    "model.fit(X_train, y_train)"
   ]
  },
  {
   "cell_type": "code",
   "execution_count": null,
   "id": "d6c53667",
   "metadata": {},
   "outputs": [],
   "source": [
    "# 在测试集上进行预测\n",
    "y_pred = model.predict(X_test)"
   ]
  },
  {
   "cell_type": "code",
   "execution_count": null,
   "id": "5e2eb41c",
   "metadata": {},
   "outputs": [],
   "source": [
    "# 计算模型性能指标\n",
    "mse = mean_squared_error(y_test, y_pred)\n",
    "r2 = r2_score(y_test, y_pred)"
   ]
  },
  {
   "cell_type": "code",
   "execution_count": null,
   "id": "2a3f21c6",
   "metadata": {},
   "outputs": [],
   "source": [
    "# 输出模型性能指标和系数\n",
    "print('均方误差：', mse)\n",
    "print('决定系数：', r2)\n",
    "print('模型系数：', model.coef_)"
   ]
  },
  {
   "cell_type": "code",
   "execution_count": null,
   "id": "db64bf4a",
   "metadata": {},
   "outputs": [],
   "source": [
    "# 绘制预测值和真实值的散点图\n",
    "plt.scatter(y_test, y_pred)\n",
    "plt.xlabel('True value')\n",
    "plt.ylabel('Predicted value')\n",
    "plt.title('The prediction results of the linear regression model')\n",
    "plt.plot([y_test.min(), y_test.max()], [y_test.min(), y_test.max()], 'k--', lw=2)\n",
    "plt.show()"
   ]
  }
 ],
 "metadata": {
  "kernelspec": {
   "display_name": "Python 3 (ipykernel)",
   "language": "python",
   "name": "python3"
  },
  "language_info": {
   "codemirror_mode": {
    "name": "ipython",
    "version": 3
   },
   "file_extension": ".py",
   "mimetype": "text/x-python",
   "name": "python",
   "nbconvert_exporter": "python",
   "pygments_lexer": "ipython3",
   "version": "3.9.13"
  }
 },
 "nbformat": 4,
 "nbformat_minor": 5
}
