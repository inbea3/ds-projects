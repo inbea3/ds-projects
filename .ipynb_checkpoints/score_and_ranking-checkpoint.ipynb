{
 "cells": [
  {
   "cell_type": "code",
   "execution_count": null,
   "id": "2ab4e0e9",
   "metadata": {},
   "outputs": [],
   "source": [
    "import matplotlib.pyplot as plt\n",
    "import pandas as pd\n",
    "import warnings\n",
    "warnings.filterwarnings('ignore')"
   ]
  },
  {
   "cell_type": "code",
   "execution_count": null,
   "id": "8e2028ad",
   "metadata": {},
   "outputs": [],
   "source": [
    "# 加载数据集\n",
    "df = pd.read_csv('test_sentiment.csv')\n",
    "# 检查数据类型和缺失值情况\n",
    "print('数据基本信息：')\n",
    "df.info()"
   ]
  },
  {
   "cell_type": "code",
   "execution_count": null,
   "id": "25bae8d0",
   "metadata": {},
   "outputs": [],
   "source": [
    "# 为每条消息分配一个分数\n",
    "df['score'] = df['sentiment'].map({'Positive': 1, 'Negative': -1, 'Neutral': 0})"
   ]
  },
  {
   "cell_type": "code",
   "execution_count": null,
   "id": "96e13455",
   "metadata": {},
   "outputs": [],
   "source": [
    "df['date'] = pd.to_datetime(df['date'], errors='coerce')"
   ]
  },
  {
   "cell_type": "code",
   "execution_count": null,
   "id": "e20bd69e",
   "metadata": {},
   "outputs": [],
   "source": [
    "# 按年月和发送者分组，计算每月的情绪评分\n",
    "monthly_score = df.groupby([df['date'].dt.to_period('M'), 'from'])['score'].sum().reset_index()"
   ]
  },
  {
   "cell_type": "code",
   "execution_count": null,
   "id": "f50fb6c3",
   "metadata": {},
   "outputs": [],
   "source": [
    "# 将结果保存为 csv 文件\n",
    "csv_path = 'test_monthly_score.csv'\n",
    "monthly_score.to_csv(csv_path)"
   ]
  },
  {
   "cell_type": "code",
   "execution_count": null,
   "id": "74ebce97",
   "metadata": {},
   "outputs": [],
   "source": [
    "# 按年月分组，找出每月得分最高的三名员工和得分最低的三名员工\n",
    "top_3 = monthly_score.groupby('date').apply(lambda x: x.nlargest(3, 'score', keep='all')).reset_index(drop=True)\n",
    "bottom_3 = monthly_score.groupby('date').apply(lambda x: x.nsmallest(3, 'score', keep='all')).reset_index(drop=True)"
   ]
  },
  {
   "cell_type": "code",
   "execution_count": null,
   "id": "6733e359",
   "metadata": {},
   "outputs": [],
   "source": [
    "# 输出结果\n",
    "print('月度前三名积极员工：')\n",
    "print(top_3)\n",
    "print('最差的三名员工：')\n",
    "print(bottom_3)"
   ]
  },
  {
   "cell_type": "code",
   "execution_count": null,
   "id": "13237b69",
   "metadata": {},
   "outputs": [],
   "source": [
    "# 创建画布\n",
    "fig, axes = plt.subplots(2, 1, figsize=(12, 100))\n",
    "\n",
    "# 绘制月度前三名积极员工柱状图（水平 bar）\n",
    "top_3_pivot = top_3.pivot(index='date', columns='from', values='score')\n",
    "top_3_pivot.plot(kind='barh', ax=axes[0])\n",
    "\n",
    "axes[0].set_title('The top three most active employees of the month')\n",
    "axes[0].set_xlabel('Emotional rating')\n",
    "axes[0].set_ylabel('Month and Year')\n",
    "axes[0].tick_params(axis='y', labelrotation=0)\n",
    "axes[0].legend(title='Employee email address', loc='upper center', bbox_to_anchor=(0.5, -0.01), ncol=3)\n",
    "\n",
    "# 添加数据标签\n",
    "for bar in axes[0].patches:\n",
    "    width = bar.get_width()\n",
    "    if width == 0:\n",
    "        bar.set_visible(False)  # 隐藏 0 宽度的柱子\n",
    "    else:\n",
    "        y = bar.get_y() + bar.get_height() / 2\n",
    "        axes[0].annotate(f'{width:.1f}', xy=(width, y), xytext=(5, 0),\n",
    "                         textcoords='offset points', ha='left', va='center')\n",
    "\n",
    "# 绘制最差的三名员工柱状图（水平 bar）\n",
    "bottom_3_pivot = bottom_3.pivot(index='date', columns='from', values='score')\n",
    "bottom_3_pivot.plot(kind='barh', ax=axes[1])\n",
    "\n",
    "axes[1].set_title('The three worst-performing employees')\n",
    "axes[1].set_xlabel('Emotional rating')\n",
    "axes[1].set_ylabel('Month and Year')\n",
    "axes[1].tick_params(axis='y', labelrotation=0)\n",
    "axes[1].legend(title='Employee email address', loc='upper center', bbox_to_anchor=(0.5, -0.01), ncol=3)\n",
    "\n",
    "# 添加数据标签\n",
    "for bar in axes[1].patches:\n",
    "    width = bar.get_width()\n",
    "    if width == 0:\n",
    "        bar.set_visible(False)  # 隐藏 0 宽度的柱子\n",
    "    else:\n",
    "        y = bar.get_y() + bar.get_height() / 2\n",
    "        axes[1].annotate(f'{width:.1f}', xy=(width, y), xytext=(5, 0),\n",
    "                         textcoords='offset points', ha='left', va='center')\n",
    "\n",
    "# 自动调整布局\n",
    "plt.tight_layout()\n",
    "plt.show()\n"
   ]
  }
 ],
 "metadata": {
  "kernelspec": {
   "display_name": "Python 3 (ipykernel)",
   "language": "python",
   "name": "python3"
  },
  "language_info": {
   "codemirror_mode": {
    "name": "ipython",
    "version": 3
   },
   "file_extension": ".py",
   "mimetype": "text/x-python",
   "name": "python",
   "nbconvert_exporter": "python",
   "pygments_lexer": "ipython3",
   "version": "3.9.13"
  }
 },
 "nbformat": 4,
 "nbformat_minor": 5
}
